{
 "cells": [
  {
   "cell_type": "code",
   "execution_count": 2,
   "metadata": {},
   "outputs": [],
   "source": [
    "import logging\n",
    "logging.basicConfig(format='%(asctime)s : %(levelname)s : %(message)s', level=logging.INFO)\n",
    "\n",
    "from gensim.summarization import summarize"
   ]
  },
  {
   "cell_type": "code",
   "execution_count": 3,
   "metadata": {},
   "outputs": [
    {
     "name": "stdout",
     "output_type": "stream",
     "text": [
      "Input text:\n",
      "You are responsible for safeguarding the password that you use to access the Services and for any activities or actions under your password. We encourage you to use “strong” passwords (passwords that use a combination of upper and lower case letters, numbers and symbols) with your account.Twitter cannot and will not be liable for any loss or damage arising from your failure to comply with the above. Twitter gives you a personal, worldwide, royalty­free, non­assignable and non­exclusive license to use the software that is provided to you by Twitter as part of the Services. This license is for the sole purpose of enabling you to use and enjoy the benefit of the Services as provided by Twitter, in themanner permitted by these Terms. All right, title, and interest in and to the Services (excluding Content provided by users) are and will remain the exclusive property of Twitter and its licensors. The Services are protected by copyright, trademark, and other laws of both the United States and foreign countries. Nothing in the Terms gives you a right to use the Twitter name or any of the Twitter trademarks, logos, domain names, and other distinctive brand features. Any feedback, comments, or suggestions you may provide regarding Twitter, or the Services is entirely voluntary and we will be free to use such feedback, comments or suggestions as we see fit and without any obligation to you. \n"
     ]
    }
   ],
   "source": [
    "text = \"You are responsible for safeguarding the password that you use to access the Services and for any \" + \\\n",
    "    \"activities or actions under your password. We encourage you to use “strong” passwords (passwords \" + \\\n",
    "    \"that use a combination of upper and lower case letters, numbers and symbols) with your account.\" + \\\n",
    "    \"Twitter cannot and will not be liable for any loss or damage arising from your failure to comply with the above. \" + \\\n",
    "    \"Twitter gives you a personal, worldwide, royalty­free, non­assignable and non­exclusive license to \" + \\\n",
    "    \"use the software that is provided to you by Twitter as part of the Services. This license is for the sole \" + \\\n",
    "    \"purpose of enabling you to use and enjoy the benefit of the Services as provided by Twitter, in the\" + \\\n",
    "    \"manner permitted by these Terms. \" + \\\n",
    "    \"All right, title, and interest in and to the Services (excluding Content provided by users) are and will \" + \\\n",
    "    \"remain the exclusive property of Twitter and its licensors. The Services are protected by copyright, \" + \\\n",
    "    \"trademark, and other laws of both the United States and foreign countries. Nothing in the Terms \" + \\\n",
    "    \"gives you a right to use the Twitter name or any of the Twitter trademarks, logos, domain names, \" + \\\n",
    "    \"and other distinctive brand features. Any feedback, comments, or suggestions you may provide \" + \\\n",
    "    \"regarding Twitter, or the Services is entirely voluntary and we will be free to use such feedback, comments or suggestions as we see fit and without any obligation to you. \"\n",
    "\n",
    "print 'Input text:'\n",
    "print text"
   ]
  },
  {
   "cell_type": "markdown",
   "metadata": {},
   "source": [
    "# Summarizing text based on TextRank"
   ]
  },
  {
   "cell_type": "code",
   "execution_count": 4,
   "metadata": {},
   "outputs": [
    {
     "name": "stderr",
     "output_type": "stream",
     "text": [
      "2018-05-04 03:36:28,789 : WARNING : Input text is expected to have at least 10 sentences.\n",
      "2018-05-04 03:36:28,791 : INFO : adding document #0 to Dictionary(0 unique tokens: [])\n",
      "2018-05-04 03:36:28,792 : INFO : built Dictionary(73 unique tokens: [u'comment', u'upper', u'domain', u'right', u'feedback']...) from 8 documents (total 105 corpus positions)\n",
      "2018-05-04 03:36:28,794 : WARNING : Input corpus is expected to have at least 10 documents.\n"
     ]
    },
    {
     "name": "stdout",
     "output_type": "stream",
     "text": [
      "Summary:\n",
      "Nothing in the Terms gives you a right to use the Twitter name or any of the Twitter trademarks, logos, domain names, and other distinctive brand features.\n"
     ]
    }
   ],
   "source": [
    "print 'Summary:'\n",
    "print summarize(text)"
   ]
  },
  {
   "cell_type": "code",
   "execution_count": 5,
   "metadata": {},
   "outputs": [
    {
     "name": "stderr",
     "output_type": "stream",
     "text": [
      "2018-05-04 03:36:29,693 : WARNING : Input text is expected to have at least 10 sentences.\n",
      "2018-05-04 03:36:29,694 : INFO : adding document #0 to Dictionary(0 unique tokens: [])\n",
      "2018-05-04 03:36:29,695 : INFO : built Dictionary(73 unique tokens: [u'comment', u'upper', u'domain', u'right', u'feedback']...) from 8 documents (total 105 corpus positions)\n",
      "2018-05-04 03:36:29,697 : WARNING : Input corpus is expected to have at least 10 documents.\n"
     ]
    },
    {
     "name": "stdout",
     "output_type": "stream",
     "text": [
      "['Nothing in the Terms gives you a right to use the Twitter name or any of the Twitter trademarks, logos, domain names, and other distinctive brand features.']\n"
     ]
    }
   ],
   "source": [
    "print summarize(text, split=True)\n"
   ]
  },
  {
   "cell_type": "markdown",
   "metadata": {},
   "source": [
    "# It contains 30% of original text"
   ]
  },
  {
   "cell_type": "code",
   "execution_count": 6,
   "metadata": {},
   "outputs": [
    {
     "name": "stderr",
     "output_type": "stream",
     "text": [
      "2018-05-04 03:36:31,964 : WARNING : Input text is expected to have at least 10 sentences.\n",
      "2018-05-04 03:36:31,965 : INFO : adding document #0 to Dictionary(0 unique tokens: [])\n",
      "2018-05-04 03:36:31,966 : INFO : built Dictionary(73 unique tokens: [u'comment', u'upper', u'domain', u'right', u'feedback']...) from 8 documents (total 105 corpus positions)\n",
      "2018-05-04 03:36:31,967 : WARNING : Input corpus is expected to have at least 10 documents.\n"
     ]
    },
    {
     "name": "stdout",
     "output_type": "stream",
     "text": [
      "Summary:\n",
      "Twitter gives you a personal, worldwide, royalty­free, non­assignable and non­exclusive license to use the software that is provided to you by Twitter as part of the Services.\n",
      "Nothing in the Terms gives you a right to use the Twitter name or any of the Twitter trademarks, logos, domain names, and other distinctive brand features.\n"
     ]
    }
   ],
   "source": [
    "print 'Summary:'\n",
    "print summarize(text, ratio=0.3)"
   ]
  },
  {
   "cell_type": "markdown",
   "metadata": {},
   "source": [
    "# Limiting the summarisation to 50 words based on TextRank algo"
   ]
  },
  {
   "cell_type": "code",
   "execution_count": 7,
   "metadata": {},
   "outputs": [
    {
     "name": "stderr",
     "output_type": "stream",
     "text": [
      "2018-05-04 03:36:33,717 : WARNING : Input text is expected to have at least 10 sentences.\n",
      "2018-05-04 03:36:33,719 : INFO : adding document #0 to Dictionary(0 unique tokens: [])\n",
      "2018-05-04 03:36:33,720 : INFO : built Dictionary(73 unique tokens: [u'comment', u'upper', u'domain', u'right', u'feedback']...) from 8 documents (total 105 corpus positions)\n",
      "2018-05-04 03:36:33,722 : WARNING : Input corpus is expected to have at least 10 documents.\n"
     ]
    },
    {
     "name": "stdout",
     "output_type": "stream",
     "text": [
      "Summary:\n",
      "Twitter gives you a personal, worldwide, royalty­free, non­assignable and non­exclusive license to use the software that is provided to you by Twitter as part of the Services.\n",
      "Nothing in the Terms gives you a right to use the Twitter name or any of the Twitter trademarks, logos, domain names, and other distinctive brand features.\n"
     ]
    }
   ],
   "source": [
    "print 'Summary:'\n",
    "print summarize(text, word_count=50)"
   ]
  },
  {
   "cell_type": "markdown",
   "metadata": {},
   "source": [
    "# Finding most prominent keywords in the text"
   ]
  },
  {
   "cell_type": "code",
   "execution_count": 14,
   "metadata": {},
   "outputs": [
    {
     "name": "stdout",
     "output_type": "stream",
     "text": [
      "Keywords:\n",
      "exclusive\n",
      "twitter\n",
      "non\n",
      "trademark\n",
      "trademarks\n",
      "brand\n",
      "case\n",
      "letters\n"
     ]
    }
   ],
   "source": [
    "from gensim.summarization import keywords\n",
    "\n",
    "print 'Keywords:'\n",
    "print keywords(text, ratio=0.15)\n"
   ]
  },
  {
   "cell_type": "code",
   "execution_count": null,
   "metadata": {},
   "outputs": [],
   "source": []
  }
 ],
 "metadata": {
  "kernelspec": {
   "display_name": "Python 2",
   "language": "python",
   "name": "python2"
  },
  "language_info": {
   "codemirror_mode": {
    "name": "ipython",
    "version": 2
   },
   "file_extension": ".py",
   "mimetype": "text/x-python",
   "name": "python",
   "nbconvert_exporter": "python",
   "pygments_lexer": "ipython2",
   "version": "2.7.12"
  }
 },
 "nbformat": 4,
 "nbformat_minor": 2
}
